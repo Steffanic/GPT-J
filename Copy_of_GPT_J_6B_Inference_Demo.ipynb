{
  "nbformat": 4,
  "nbformat_minor": 2,
  "metadata": {
    "colab": {
      "name": "Copy of GPT-J-6B Inference Demo.ipynb",
      "provenance": [],
      "collapsed_sections": [],
      "toc_visible": true,
      "machine_shape": "hm",
      "include_colab_link": true
    },
    "kernelspec": {
      "name": "python3",
      "display_name": "Python 3.8.5 64-bit"
    },
    "language_info": {
      "name": "python",
      "version": "3.8.5",
      "mimetype": "text/x-python",
      "codemirror_mode": {
        "name": "ipython",
        "version": 3
      },
      "pygments_lexer": "ipython3",
      "nbconvert_exporter": "python",
      "file_extension": ".py"
    },
    "accelerator": "TPU",
    "interpreter": {
      "hash": "916dbcbb3f70747c44a77c7bcd40155683ae19c65e1c03b4aa3499c5328201f1"
    }
  },
  "cells": [
    {
      "cell_type": "markdown",
      "source": [
        "<a href=\"https://colab.research.google.com/github/Steffanic/GPT-J/blob/main/Copy_of_GPT_J_6B_Inference_Demo.ipynb\" target=\"_parent\"><img src=\"https://colab.research.google.com/assets/colab-badge.svg\" alt=\"Open In Colab\"/></a>"
      ],
      "metadata": {
        "id": "view-in-github",
        "colab_type": "text"
      }
    },
    {
      "cell_type": "markdown",
      "source": [
        "# GPT-J-6B Inference Demo\n",
        "\n",
        "<a href=\"http://colab.research.google.com/github/kingoflolz/mesh-transformer-jax/blob/master/colab_demo.ipynb\" target=\"_parent\"><img src=\"https://colab.research.google.com/assets/colab-badge.svg\" alt=\"Open In Colab\"/></a>\n",
        "\n",
        "This notebook demonstrates how to run the [GPT-J-6B model](https://github.com/kingoflolz/mesh-transformer-jax/#GPT-J-6B). See the link for more details about the model, including evaluation metrics and credits."
      ],
      "metadata": {
        "id": "pHIJVqHsh4An"
      }
    },
    {
      "cell_type": "markdown",
      "source": [
        "## Install Dependencies\n",
        "\n",
        "First we download the model and install some dependencies. This step takes at least 5 minutes (possibly longer depending on server load).\n",
        "\n",
        "!!! **Make sure you are using a TPU runtime!** !!!"
      ],
      "metadata": {
        "id": "8CMw_dSQKfhT"
      }
    },
    {
      "cell_type": "code",
      "execution_count": 3,
      "source": [
        "!apt install zstd\n",
        "\n",
        "# the \"slim\" version contain only bf16 weights and no optimizer parameters, which minimizes bandwidth and memory\n",
        "!time wget -c https://the-eye.eu/public/AI/GPT-J-6B/step_383500_slim.tar.zstd\n",
        "\n",
        "!time tar -I zstd -xf step_383500_slim.tar.zstd\n",
        "\n",
        "!git clone -b lowmem https://github.com/VE-FORBRYDERNE/mesh-transformer-jax.git\n",
        "!pip install -r mesh-transformer-jax/requirements.txt\n",
        "\n",
        "# jax 0.2.12 is required due to a regression with xmap in 0.2.13\n",
        "!pip install mesh-transformer-jax/ jax==0.2.12 tensorflow==2.5.0"
      ],
      "outputs": [
        {
          "output_type": "stream",
          "name": "stdout",
          "text": [
            "\u001b[1;31mE: \u001b[0mCould not open lock file /var/lib/dpkg/lock-frontend - open (13: Permission denied)\u001b[0m\n",
            "\u001b[1;31mE: \u001b[0mUnable to acquire the dpkg frontend lock (/var/lib/dpkg/lock-frontend), are you root?\u001b[0m\n",
            "--2021-09-14 18:22:23--  https://the-eye.eu/public/AI/GPT-J-6B/step_383500_slim.tar.zstd\n",
            "Resolving the-eye.eu (the-eye.eu)... 162.213.130.242\n",
            "Connecting to the-eye.eu (the-eye.eu)|162.213.130.242|:443... connected.\n",
            "HTTP request sent, awaiting response... 416 Requested Range Not Satisfiable\n",
            "\n",
            "    The file is already fully retrieved; nothing to do.\n",
            "\n",
            "\n",
            "real\t0m0.287s\n",
            "user\t0m0.004s\n",
            "sys\t0m0.004s\n",
            "tar (child): zstd: Cannot exec: No such file or directory\n",
            "tar (child): Error is not recoverable: exiting now\n",
            "tar: Child returned status 2\n",
            "tar: Error is not recoverable: exiting now\n",
            "\n",
            "real\t0m0.028s\n",
            "user\t0m0.009s\n",
            "sys\t0m0.000s\n",
            "fatal: destination path 'mesh-transformer-jax' already exists and is not an empty directory.\n",
            "Collecting git+https://github.com/deepmind/dm-haiku (from -r mesh-transformer-jax/requirements.txt (line 7))\n",
            "  Cloning https://github.com/deepmind/dm-haiku to /tmp/pip-req-build-9fycaf47\n",
            "  Running command git clone -q https://github.com/deepmind/dm-haiku /tmp/pip-req-build-9fycaf47\n",
            "Requirement already satisfied (use --upgrade to upgrade): dm-haiku==0.0.5.dev0 from git+https://github.com/deepmind/dm-haiku in /home/steffanic/.local/lib/python3.8/site-packages (from -r mesh-transformer-jax/requirements.txt (line 7))\n",
            "Collecting git+https://github.com/EleutherAI/lm-evaluation-harness/ (from -r mesh-transformer-jax/requirements.txt (line 8))\n",
            "  Cloning https://github.com/EleutherAI/lm-evaluation-harness/ to /tmp/pip-req-build-h_0e_56h\n",
            "  Running command git clone -q https://github.com/EleutherAI/lm-evaluation-harness/ /tmp/pip-req-build-h_0e_56h\n",
            "Requirement already satisfied (use --upgrade to upgrade): lm-eval==0.0.1 from git+https://github.com/EleutherAI/lm-evaluation-harness/ in /home/steffanic/.local/lib/python3.8/site-packages (from -r mesh-transformer-jax/requirements.txt (line 8))\n",
            "Requirement already satisfied: numpy~=1.19.5 in /home/steffanic/.local/lib/python3.8/site-packages (from -r mesh-transformer-jax/requirements.txt (line 1)) (1.19.5)\n",
            "Requirement already satisfied: tqdm~=4.45.0 in /home/steffanic/.local/lib/python3.8/site-packages (from -r mesh-transformer-jax/requirements.txt (line 2)) (4.45.0)\n",
            "Requirement already satisfied: wandb>=0.11.2 in /home/steffanic/.local/lib/python3.8/site-packages (from -r mesh-transformer-jax/requirements.txt (line 3)) (0.12.1)\n",
            "Requirement already satisfied: requests~=2.25.1 in /home/steffanic/.local/lib/python3.8/site-packages (from -r mesh-transformer-jax/requirements.txt (line 4)) (2.25.1)\n",
            "Requirement already satisfied: fabric~=2.6.0 in /home/steffanic/.local/lib/python3.8/site-packages (from -r mesh-transformer-jax/requirements.txt (line 5)) (2.6.0)\n",
            "Requirement already satisfied: optax==0.0.6 in /home/steffanic/.local/lib/python3.8/site-packages (from -r mesh-transformer-jax/requirements.txt (line 6)) (0.0.6)\n",
            "Requirement already satisfied: ray[default]==1.4.1 in /home/steffanic/.local/lib/python3.8/site-packages (from -r mesh-transformer-jax/requirements.txt (line 9)) (1.4.1)\n",
            "Requirement already satisfied: jax==0.2.12 in /home/steffanic/.local/lib/python3.8/site-packages (from -r mesh-transformer-jax/requirements.txt (line 10)) (0.2.12)\n",
            "Requirement already satisfied: Flask~=1.1.2 in /home/steffanic/.local/lib/python3.8/site-packages (from -r mesh-transformer-jax/requirements.txt (line 11)) (1.1.2)\n",
            "Requirement already satisfied: cloudpickle~=1.3.0 in /home/steffanic/.local/lib/python3.8/site-packages (from -r mesh-transformer-jax/requirements.txt (line 12)) (1.3.0)\n",
            "Requirement already satisfied: tensorflow-cpu~=2.5.0 in /home/steffanic/.local/lib/python3.8/site-packages (from -r mesh-transformer-jax/requirements.txt (line 13)) (2.5.1)\n",
            "Requirement already satisfied: google-cloud-storage~=1.36.2 in /home/steffanic/.local/lib/python3.8/site-packages (from -r mesh-transformer-jax/requirements.txt (line 14)) (1.36.2)\n",
            "Requirement already satisfied: transformers in /home/steffanic/.local/lib/python3.8/site-packages (from -r mesh-transformer-jax/requirements.txt (line 15)) (4.10.2)\n",
            "Requirement already satisfied: smart_open[gcs] in /home/steffanic/.local/lib/python3.8/site-packages (from -r mesh-transformer-jax/requirements.txt (line 16)) (5.2.1)\n",
            "Requirement already satisfied: func_timeout in /home/steffanic/.local/lib/python3.8/site-packages (from -r mesh-transformer-jax/requirements.txt (line 17)) (4.3.5)\n",
            "Requirement already satisfied: ftfy in /home/steffanic/.local/lib/python3.8/site-packages (from -r mesh-transformer-jax/requirements.txt (line 18)) (6.0.3)\n",
            "Requirement already satisfied: fastapi in /home/steffanic/.local/lib/python3.8/site-packages (from -r mesh-transformer-jax/requirements.txt (line 19)) (0.68.1)\n",
            "Requirement already satisfied: uvicorn in /home/steffanic/.local/lib/python3.8/site-packages (from -r mesh-transformer-jax/requirements.txt (line 20)) (0.15.0)\n",
            "Requirement already satisfied: lm_dataformat in /home/steffanic/.local/lib/python3.8/site-packages (from -r mesh-transformer-jax/requirements.txt (line 21)) (0.0.20)\n",
            "Requirement already satisfied: absl-py>=0.7.1 in /home/steffanic/.local/lib/python3.8/site-packages (from dm-haiku==0.0.5.dev0->-r mesh-transformer-jax/requirements.txt (line 7)) (0.12.0)\n",
            "Requirement already satisfied: jmp>=0.0.2 in /home/steffanic/.local/lib/python3.8/site-packages (from dm-haiku==0.0.5.dev0->-r mesh-transformer-jax/requirements.txt (line 7)) (0.0.2)\n",
            "Requirement already satisfied: tabulate>=0.8.9 in /home/steffanic/.local/lib/python3.8/site-packages (from dm-haiku==0.0.5.dev0->-r mesh-transformer-jax/requirements.txt (line 7)) (0.8.9)\n",
            "Requirement already satisfied: best_download>=0.0.6 in /home/steffanic/.local/lib/python3.8/site-packages (from lm-eval==0.0.1->-r mesh-transformer-jax/requirements.txt (line 8)) (0.0.7)\n",
            "Requirement already satisfied: black==20.8b1 in /home/steffanic/.local/lib/python3.8/site-packages (from lm-eval==0.0.1->-r mesh-transformer-jax/requirements.txt (line 8)) (20.8b1)\n",
            "Requirement already satisfied: click>=7.1 in /home/steffanic/.local/lib/python3.8/site-packages (from lm-eval==0.0.1->-r mesh-transformer-jax/requirements.txt (line 8)) (8.0.1)\n",
            "Requirement already satisfied: datasets>=1.2.1 in /home/steffanic/.local/lib/python3.8/site-packages (from lm-eval==0.0.1->-r mesh-transformer-jax/requirements.txt (line 8)) (1.12.0)\n",
            "Requirement already satisfied: jieba==0.42.1 in /home/steffanic/.local/lib/python3.8/site-packages (from lm-eval==0.0.1->-r mesh-transformer-jax/requirements.txt (line 8)) (0.42.1)\n",
            "Requirement already satisfied: jsonlines==2.0.0 in /home/steffanic/.local/lib/python3.8/site-packages (from lm-eval==0.0.1->-r mesh-transformer-jax/requirements.txt (line 8)) (2.0.0)\n",
            "Requirement already satisfied: mock==4.0.3 in /home/steffanic/.local/lib/python3.8/site-packages (from lm-eval==0.0.1->-r mesh-transformer-jax/requirements.txt (line 8)) (4.0.3)\n",
            "Requirement already satisfied: nagisa==0.2.7 in /home/steffanic/.local/lib/python3.8/site-packages (from lm-eval==0.0.1->-r mesh-transformer-jax/requirements.txt (line 8)) (0.2.7)\n",
            "Requirement already satisfied: numexpr==2.7.2 in /home/steffanic/.local/lib/python3.8/site-packages (from lm-eval==0.0.1->-r mesh-transformer-jax/requirements.txt (line 8)) (2.7.2)\n",
            "Requirement already satisfied: openai==0.6.4 in /home/steffanic/.local/lib/python3.8/site-packages (from lm-eval==0.0.1->-r mesh-transformer-jax/requirements.txt (line 8)) (0.6.4)\n",
            "Requirement already satisfied: pybind11==2.6.2 in /home/steffanic/.local/lib/python3.8/site-packages (from lm-eval==0.0.1->-r mesh-transformer-jax/requirements.txt (line 8)) (2.6.2)\n",
            "Requirement already satisfied: pycountry==20.7.3 in /home/steffanic/.local/lib/python3.8/site-packages (from lm-eval==0.0.1->-r mesh-transformer-jax/requirements.txt (line 8)) (20.7.3)\n",
            "Requirement already satisfied: pytablewriter==0.58.0 in /home/steffanic/.local/lib/python3.8/site-packages (from lm-eval==0.0.1->-r mesh-transformer-jax/requirements.txt (line 8)) (0.58.0)\n",
            "Requirement already satisfied: pytest==6.2.3 in /home/steffanic/.local/lib/python3.8/site-packages (from lm-eval==0.0.1->-r mesh-transformer-jax/requirements.txt (line 8)) (6.2.3)\n",
            "Requirement already satisfied: sacrebleu==1.5.0 in /home/steffanic/.local/lib/python3.8/site-packages (from lm-eval==0.0.1->-r mesh-transformer-jax/requirements.txt (line 8)) (1.5.0)\n",
            "Requirement already satisfied: scikit-learn>=0.24.1 in /home/steffanic/.local/lib/python3.8/site-packages (from lm-eval==0.0.1->-r mesh-transformer-jax/requirements.txt (line 8)) (0.24.2)\n",
            "Requirement already satisfied: sqlitedict==1.6.0 in /home/steffanic/.local/lib/python3.8/site-packages (from lm-eval==0.0.1->-r mesh-transformer-jax/requirements.txt (line 8)) (1.6.0)\n",
            "Requirement already satisfied: torch>=1.7 in /home/steffanic/.local/lib/python3.8/site-packages (from lm-eval==0.0.1->-r mesh-transformer-jax/requirements.txt (line 8)) (1.9.0)\n",
            "Requirement already satisfied: tqdm-multiprocess==0.0.11 in /home/steffanic/.local/lib/python3.8/site-packages (from lm-eval==0.0.1->-r mesh-transformer-jax/requirements.txt (line 8)) (0.0.11)\n",
            "Requirement already satisfied: zstandard==0.15.2 in /home/steffanic/.local/lib/python3.8/site-packages (from lm-eval==0.0.1->-r mesh-transformer-jax/requirements.txt (line 8)) (0.15.2)\n",
            "Requirement already satisfied: six>=1.13.0 in /home/steffanic/.local/lib/python3.8/site-packages (from wandb>=0.11.2->-r mesh-transformer-jax/requirements.txt (line 3)) (1.15.0)\n",
            "Requirement already satisfied: subprocess32>=3.5.3 in /home/steffanic/.local/lib/python3.8/site-packages (from wandb>=0.11.2->-r mesh-transformer-jax/requirements.txt (line 3)) (3.5.4)\n",
            "Requirement already satisfied: promise<3,>=2.0 in /home/steffanic/.local/lib/python3.8/site-packages (from wandb>=0.11.2->-r mesh-transformer-jax/requirements.txt (line 3)) (2.3)\n",
            "Requirement already satisfied: python-dateutil>=2.6.1 in /home/steffanic/.local/lib/python3.8/site-packages (from wandb>=0.11.2->-r mesh-transformer-jax/requirements.txt (line 3)) (2.8.1)\n",
            "Requirement already satisfied: GitPython>=1.0.0 in /home/steffanic/.local/lib/python3.8/site-packages (from wandb>=0.11.2->-r mesh-transformer-jax/requirements.txt (line 3)) (3.1.18)\n",
            "Requirement already satisfied: psutil>=5.0.0 in /home/steffanic/.local/lib/python3.8/site-packages (from wandb>=0.11.2->-r mesh-transformer-jax/requirements.txt (line 3)) (5.8.0)\n",
            "Requirement already satisfied: shortuuid>=0.5.0 in /home/steffanic/.local/lib/python3.8/site-packages (from wandb>=0.11.2->-r mesh-transformer-jax/requirements.txt (line 3)) (1.0.1)\n",
            "Requirement already satisfied: docker-pycreds>=0.4.0 in /home/steffanic/.local/lib/python3.8/site-packages (from wandb>=0.11.2->-r mesh-transformer-jax/requirements.txt (line 3)) (0.4.0)\n",
            "Requirement already satisfied: configparser>=3.8.1 in /home/steffanic/.local/lib/python3.8/site-packages (from wandb>=0.11.2->-r mesh-transformer-jax/requirements.txt (line 3)) (5.0.2)\n",
            "Requirement already satisfied: PyYAML in /usr/lib/python3/dist-packages (from wandb>=0.11.2->-r mesh-transformer-jax/requirements.txt (line 3)) (5.3.1)\n",
            "Requirement already satisfied: protobuf>=3.12.0 in /home/steffanic/.local/lib/python3.8/site-packages (from wandb>=0.11.2->-r mesh-transformer-jax/requirements.txt (line 3)) (3.17.1)\n",
            "Requirement already satisfied: sentry-sdk>=1.0.0 in /home/steffanic/.local/lib/python3.8/site-packages (from wandb>=0.11.2->-r mesh-transformer-jax/requirements.txt (line 3)) (1.3.1)\n",
            "Requirement already satisfied: pathtools in /home/steffanic/.local/lib/python3.8/site-packages (from wandb>=0.11.2->-r mesh-transformer-jax/requirements.txt (line 3)) (0.1.2)\n",
            "Requirement already satisfied: urllib3<1.27,>=1.21.1 in /home/steffanic/.local/lib/python3.8/site-packages (from requests~=2.25.1->-r mesh-transformer-jax/requirements.txt (line 4)) (1.26.5)\n",
            "Requirement already satisfied: certifi>=2017.4.17 in /usr/lib/python3/dist-packages (from requests~=2.25.1->-r mesh-transformer-jax/requirements.txt (line 4)) (2019.11.28)\n",
            "Requirement already satisfied: chardet<5,>=3.0.2 in /usr/lib/python3/dist-packages (from requests~=2.25.1->-r mesh-transformer-jax/requirements.txt (line 4)) (3.0.4)\n",
            "Requirement already satisfied: idna<3,>=2.5 in /usr/lib/python3/dist-packages (from requests~=2.25.1->-r mesh-transformer-jax/requirements.txt (line 4)) (2.8)\n",
            "Requirement already satisfied: paramiko>=2.4 in /home/steffanic/.local/lib/python3.8/site-packages (from fabric~=2.6.0->-r mesh-transformer-jax/requirements.txt (line 5)) (2.7.2)\n",
            "Requirement already satisfied: invoke<2.0,>=1.3 in /home/steffanic/.local/lib/python3.8/site-packages (from fabric~=2.6.0->-r mesh-transformer-jax/requirements.txt (line 5)) (1.6.0)\n",
            "Requirement already satisfied: pathlib2 in /home/steffanic/.local/lib/python3.8/site-packages (from fabric~=2.6.0->-r mesh-transformer-jax/requirements.txt (line 5)) (2.3.6)\n",
            "Requirement already satisfied: jaxlib>=0.1.37 in /home/steffanic/.local/lib/python3.8/site-packages (from optax==0.0.6->-r mesh-transformer-jax/requirements.txt (line 6)) (0.1.71)\n",
            "Requirement already satisfied: chex>=0.0.4 in /home/steffanic/.local/lib/python3.8/site-packages (from optax==0.0.6->-r mesh-transformer-jax/requirements.txt (line 6)) (0.0.8)\n",
            "Requirement already satisfied: aiohttp in /home/steffanic/.local/lib/python3.8/site-packages (from ray[default]==1.4.1->-r mesh-transformer-jax/requirements.txt (line 9)) (3.7.4.post0)\n",
            "Requirement already satisfied: msgpack<2.0.0,>=1.0.0 in /home/steffanic/.local/lib/python3.8/site-packages (from ray[default]==1.4.1->-r mesh-transformer-jax/requirements.txt (line 9)) (1.0.2)\n",
            "Requirement already satisfied: aiohttp-cors in /home/steffanic/.local/lib/python3.8/site-packages (from ray[default]==1.4.1->-r mesh-transformer-jax/requirements.txt (line 9)) (0.7.0)\n",
            "Requirement already satisfied: py-spy>=0.2.0 in /home/steffanic/.local/lib/python3.8/site-packages (from ray[default]==1.4.1->-r mesh-transformer-jax/requirements.txt (line 9)) (0.3.9)\n",
            "Requirement already satisfied: jsonschema in /usr/lib/python3/dist-packages (from ray[default]==1.4.1->-r mesh-transformer-jax/requirements.txt (line 9)) (3.2.0)\n",
            "Requirement already satisfied: redis>=3.5.0 in /home/steffanic/.local/lib/python3.8/site-packages (from ray[default]==1.4.1->-r mesh-transformer-jax/requirements.txt (line 9)) (3.5.3)\n",
            "Requirement already satisfied: aioredis in /home/steffanic/.local/lib/python3.8/site-packages (from ray[default]==1.4.1->-r mesh-transformer-jax/requirements.txt (line 9)) (2.0.0)\n",
            "Requirement already satisfied: opencensus in /home/steffanic/.local/lib/python3.8/site-packages (from ray[default]==1.4.1->-r mesh-transformer-jax/requirements.txt (line 9)) (0.7.13)\n",
            "Requirement already satisfied: pydantic>=1.8 in /home/steffanic/.local/lib/python3.8/site-packages (from ray[default]==1.4.1->-r mesh-transformer-jax/requirements.txt (line 9)) (1.8.2)\n",
            "Requirement already satisfied: gpustat in /home/steffanic/.local/lib/python3.8/site-packages (from ray[default]==1.4.1->-r mesh-transformer-jax/requirements.txt (line 9)) (0.6.0)\n",
            "Requirement already satisfied: grpcio>=1.28.1 in /home/steffanic/.local/lib/python3.8/site-packages (from ray[default]==1.4.1->-r mesh-transformer-jax/requirements.txt (line 9)) (1.34.1)\n",
            "Requirement already satisfied: colorama in /usr/lib/python3/dist-packages (from ray[default]==1.4.1->-r mesh-transformer-jax/requirements.txt (line 9)) (0.4.3)\n",
            "Requirement already satisfied: prometheus-client>=0.7.1 in /home/steffanic/.local/lib/python3.8/site-packages (from ray[default]==1.4.1->-r mesh-transformer-jax/requirements.txt (line 9)) (0.11.0)\n",
            "Requirement already satisfied: filelock in /usr/lib/python3/dist-packages (from ray[default]==1.4.1->-r mesh-transformer-jax/requirements.txt (line 9)) (3.0.12)\n",
            "Requirement already satisfied: colorful; extra == \"default\" in /home/steffanic/.local/lib/python3.8/site-packages (from ray[default]==1.4.1->-r mesh-transformer-jax/requirements.txt (line 9)) (0.5.4)\n",
            "Requirement already satisfied: opt-einsum in /home/steffanic/.local/lib/python3.8/site-packages (from jax==0.2.12->-r mesh-transformer-jax/requirements.txt (line 10)) (3.3.0)\n",
            "Requirement already satisfied: Jinja2>=2.10.1 in /usr/lib/python3/dist-packages (from Flask~=1.1.2->-r mesh-transformer-jax/requirements.txt (line 11)) (2.10.1)\n",
            "Requirement already satisfied: itsdangerous>=0.24 in /home/steffanic/.local/lib/python3.8/site-packages (from Flask~=1.1.2->-r mesh-transformer-jax/requirements.txt (line 11)) (2.0.1)\n",
            "Requirement already satisfied: Werkzeug>=0.15 in /home/steffanic/.local/lib/python3.8/site-packages (from Flask~=1.1.2->-r mesh-transformer-jax/requirements.txt (line 11)) (2.0.1)\n",
            "Requirement already satisfied: wrapt~=1.12.1 in /home/steffanic/.local/lib/python3.8/site-packages (from tensorflow-cpu~=2.5.0->-r mesh-transformer-jax/requirements.txt (line 13)) (1.12.1)\n",
            "Requirement already satisfied: google-pasta~=0.2 in /home/steffanic/.local/lib/python3.8/site-packages (from tensorflow-cpu~=2.5.0->-r mesh-transformer-jax/requirements.txt (line 13)) (0.2.0)\n",
            "Requirement already satisfied: termcolor~=1.1.0 in /home/steffanic/.local/lib/python3.8/site-packages (from tensorflow-cpu~=2.5.0->-r mesh-transformer-jax/requirements.txt (line 13)) (1.1.0)\n",
            "Requirement already satisfied: keras-nightly~=2.5.0.dev in /home/steffanic/.local/lib/python3.8/site-packages (from tensorflow-cpu~=2.5.0->-r mesh-transformer-jax/requirements.txt (line 13)) (2.5.0.dev2021032900)\n",
            "Requirement already satisfied: wheel~=0.35 in /home/steffanic/.local/lib/python3.8/site-packages (from tensorflow-cpu~=2.5.0->-r mesh-transformer-jax/requirements.txt (line 13)) (0.36.2)\n",
            "Requirement already satisfied: typing-extensions~=3.7.4 in /home/steffanic/.local/lib/python3.8/site-packages (from tensorflow-cpu~=2.5.0->-r mesh-transformer-jax/requirements.txt (line 13)) (3.7.4.3)\n",
            "Requirement already satisfied: tensorflow-estimator<2.6.0,>=2.5.0 in /home/steffanic/.local/lib/python3.8/site-packages (from tensorflow-cpu~=2.5.0->-r mesh-transformer-jax/requirements.txt (line 13)) (2.5.0)\n",
            "Requirement already satisfied: keras-preprocessing~=1.1.2 in /home/steffanic/.local/lib/python3.8/site-packages (from tensorflow-cpu~=2.5.0->-r mesh-transformer-jax/requirements.txt (line 13)) (1.1.2)\n",
            "Requirement already satisfied: h5py~=3.1.0 in /home/steffanic/.local/lib/python3.8/site-packages (from tensorflow-cpu~=2.5.0->-r mesh-transformer-jax/requirements.txt (line 13)) (3.1.0)\n",
            "Requirement already satisfied: flatbuffers~=1.12.0 in /home/steffanic/.local/lib/python3.8/site-packages (from tensorflow-cpu~=2.5.0->-r mesh-transformer-jax/requirements.txt (line 13)) (1.12)\n",
            "Requirement already satisfied: tensorboard~=2.5 in /home/steffanic/.local/lib/python3.8/site-packages (from tensorflow-cpu~=2.5.0->-r mesh-transformer-jax/requirements.txt (line 13)) (2.5.0)\n",
            "Requirement already satisfied: gast==0.4.0 in /home/steffanic/.local/lib/python3.8/site-packages (from tensorflow-cpu~=2.5.0->-r mesh-transformer-jax/requirements.txt (line 13)) (0.4.0)\n",
            "Requirement already satisfied: astunparse~=1.6.3 in /home/steffanic/.local/lib/python3.8/site-packages (from tensorflow-cpu~=2.5.0->-r mesh-transformer-jax/requirements.txt (line 13)) (1.6.3)\n",
            "Requirement already satisfied: google-cloud-core<2.0dev,>=1.4.1 in /home/steffanic/.local/lib/python3.8/site-packages (from google-cloud-storage~=1.36.2->-r mesh-transformer-jax/requirements.txt (line 14)) (1.7.2)\n",
            "Requirement already satisfied: google-resumable-media<2.0dev,>=1.2.0 in /home/steffanic/.local/lib/python3.8/site-packages (from google-cloud-storage~=1.36.2->-r mesh-transformer-jax/requirements.txt (line 14)) (1.3.3)\n",
            "Requirement already satisfied: google-auth<2.0dev,>=1.11.0 in /home/steffanic/.local/lib/python3.8/site-packages (from google-cloud-storage~=1.36.2->-r mesh-transformer-jax/requirements.txt (line 14)) (1.30.1)\n",
            "Requirement already satisfied: huggingface-hub>=0.0.12 in /home/steffanic/.local/lib/python3.8/site-packages (from transformers->-r mesh-transformer-jax/requirements.txt (line 15)) (0.0.17)\n",
            "Requirement already satisfied: packaging in /home/steffanic/.local/lib/python3.8/site-packages (from transformers->-r mesh-transformer-jax/requirements.txt (line 15)) (20.9)\n",
            "Requirement already satisfied: regex!=2019.12.17 in /home/steffanic/.local/lib/python3.8/site-packages (from transformers->-r mesh-transformer-jax/requirements.txt (line 15)) (2021.8.28)\n",
            "Requirement already satisfied: tokenizers<0.11,>=0.10.1 in /home/steffanic/.local/lib/python3.8/site-packages (from transformers->-r mesh-transformer-jax/requirements.txt (line 15)) (0.10.3)\n",
            "Requirement already satisfied: sacremoses in /home/steffanic/.local/lib/python3.8/site-packages (from transformers->-r mesh-transformer-jax/requirements.txt (line 15)) (0.0.45)\n",
            "Requirement already satisfied: wcwidth in /home/steffanic/.local/lib/python3.8/site-packages (from ftfy->-r mesh-transformer-jax/requirements.txt (line 18)) (0.2.5)\n",
            "Requirement already satisfied: starlette==0.14.2 in /home/steffanic/.local/lib/python3.8/site-packages (from fastapi->-r mesh-transformer-jax/requirements.txt (line 19)) (0.14.2)\n",
            "Requirement already satisfied: h11>=0.8 in /home/steffanic/.local/lib/python3.8/site-packages (from uvicorn->-r mesh-transformer-jax/requirements.txt (line 20)) (0.12.0)\n",
            "Requirement already satisfied: asgiref>=3.4.0 in /home/steffanic/.local/lib/python3.8/site-packages (from uvicorn->-r mesh-transformer-jax/requirements.txt (line 20)) (3.4.1)\n",
            "Requirement already satisfied: ujson in /home/steffanic/.local/lib/python3.8/site-packages (from lm_dataformat->-r mesh-transformer-jax/requirements.txt (line 21)) (4.1.0)\n",
            "Requirement already satisfied: rehash in /home/steffanic/.local/lib/python3.8/site-packages (from best_download>=0.0.6->lm-eval==0.0.1->-r mesh-transformer-jax/requirements.txt (line 8)) (1.0.0)\n",
            "Requirement already satisfied: appdirs in /usr/lib/python3/dist-packages (from black==20.8b1->lm-eval==0.0.1->-r mesh-transformer-jax/requirements.txt (line 8)) (1.4.3)\n",
            "Requirement already satisfied: toml>=0.10.1 in /home/steffanic/.local/lib/python3.8/site-packages (from black==20.8b1->lm-eval==0.0.1->-r mesh-transformer-jax/requirements.txt (line 8)) (0.10.2)\n",
            "Requirement already satisfied: pathspec<1,>=0.6 in /home/steffanic/.local/lib/python3.8/site-packages (from black==20.8b1->lm-eval==0.0.1->-r mesh-transformer-jax/requirements.txt (line 8)) (0.9.0)\n",
            "Requirement already satisfied: mypy-extensions>=0.4.3 in /home/steffanic/.local/lib/python3.8/site-packages (from black==20.8b1->lm-eval==0.0.1->-r mesh-transformer-jax/requirements.txt (line 8)) (0.4.3)\n",
            "Requirement already satisfied: typed-ast>=1.4.0 in /home/steffanic/.local/lib/python3.8/site-packages (from black==20.8b1->lm-eval==0.0.1->-r mesh-transformer-jax/requirements.txt (line 8)) (1.4.3)\n",
            "Requirement already satisfied: pandas in /home/steffanic/.local/lib/python3.8/site-packages (from datasets>=1.2.1->lm-eval==0.0.1->-r mesh-transformer-jax/requirements.txt (line 8)) (1.2.4)\n",
            "Requirement already satisfied: xxhash in /home/steffanic/.local/lib/python3.8/site-packages (from datasets>=1.2.1->lm-eval==0.0.1->-r mesh-transformer-jax/requirements.txt (line 8)) (2.0.2)\n",
            "Requirement already satisfied: pyarrow!=4.0.0,>=1.0.0 in /home/steffanic/.local/lib/python3.8/site-packages (from datasets>=1.2.1->lm-eval==0.0.1->-r mesh-transformer-jax/requirements.txt (line 8)) (4.0.1)\n",
            "Requirement already satisfied: multiprocess in /home/steffanic/.local/lib/python3.8/site-packages (from datasets>=1.2.1->lm-eval==0.0.1->-r mesh-transformer-jax/requirements.txt (line 8)) (0.70.12.2)\n",
            "Requirement already satisfied: dill in /home/steffanic/.local/lib/python3.8/site-packages (from datasets>=1.2.1->lm-eval==0.0.1->-r mesh-transformer-jax/requirements.txt (line 8)) (0.3.3)\n",
            "Requirement already satisfied: fsspec[http]>=2021.05.0 in /home/steffanic/.local/lib/python3.8/site-packages (from datasets>=1.2.1->lm-eval==0.0.1->-r mesh-transformer-jax/requirements.txt (line 8)) (2021.8.1)\n",
            "Requirement already satisfied: DyNet38 in /home/steffanic/.local/lib/python3.8/site-packages (from nagisa==0.2.7->lm-eval==0.0.1->-r mesh-transformer-jax/requirements.txt (line 8)) (2.1)\n",
            "Requirement already satisfied: tabledata<2,>=1.1.3 in /home/steffanic/.local/lib/python3.8/site-packages (from pytablewriter==0.58.0->lm-eval==0.0.1->-r mesh-transformer-jax/requirements.txt (line 8)) (1.2.0)\n",
            "Requirement already satisfied: DataProperty<2,>=0.50.0 in /home/steffanic/.local/lib/python3.8/site-packages (from pytablewriter==0.58.0->lm-eval==0.0.1->-r mesh-transformer-jax/requirements.txt (line 8)) (0.52.0)\n",
            "Requirement already satisfied: tcolorpy<1,>=0.0.5 in /home/steffanic/.local/lib/python3.8/site-packages (from pytablewriter==0.58.0->lm-eval==0.0.1->-r mesh-transformer-jax/requirements.txt (line 8)) (0.1.1)\n",
            "Requirement already satisfied: setuptools>=38.3.0 in /usr/lib/python3/dist-packages (from pytablewriter==0.58.0->lm-eval==0.0.1->-r mesh-transformer-jax/requirements.txt (line 8)) (45.2.0)\n",
            "Requirement already satisfied: typepy[datetime]<2,>=1.1.1 in /home/steffanic/.local/lib/python3.8/site-packages (from pytablewriter==0.58.0->lm-eval==0.0.1->-r mesh-transformer-jax/requirements.txt (line 8)) (1.2.0)\n",
            "Requirement already satisfied: msgfy<1,>=0.1.0 in /home/steffanic/.local/lib/python3.8/site-packages (from pytablewriter==0.58.0->lm-eval==0.0.1->-r mesh-transformer-jax/requirements.txt (line 8)) (0.1.0)\n",
            "Requirement already satisfied: mbstrdecoder<2,>=1.0.0 in /home/steffanic/.local/lib/python3.8/site-packages (from pytablewriter==0.58.0->lm-eval==0.0.1->-r mesh-transformer-jax/requirements.txt (line 8)) (1.0.1)\n",
            "Requirement already satisfied: pathvalidate<3,>=2.3.0 in /home/steffanic/.local/lib/python3.8/site-packages (from pytablewriter==0.58.0->lm-eval==0.0.1->-r mesh-transformer-jax/requirements.txt (line 8)) (2.4.1)\n",
            "Requirement already satisfied: py>=1.8.2 in /home/steffanic/.local/lib/python3.8/site-packages (from pytest==6.2.3->lm-eval==0.0.1->-r mesh-transformer-jax/requirements.txt (line 8)) (1.10.0)\n",
            "Requirement already satisfied: pluggy<1.0.0a1,>=0.12 in /home/steffanic/.local/lib/python3.8/site-packages (from pytest==6.2.3->lm-eval==0.0.1->-r mesh-transformer-jax/requirements.txt (line 8)) (0.13.1)\n",
            "Requirement already satisfied: attrs>=19.2.0 in /usr/lib/python3/dist-packages (from pytest==6.2.3->lm-eval==0.0.1->-r mesh-transformer-jax/requirements.txt (line 8)) (19.3.0)\n",
            "Requirement already satisfied: iniconfig in /home/steffanic/.local/lib/python3.8/site-packages (from pytest==6.2.3->lm-eval==0.0.1->-r mesh-transformer-jax/requirements.txt (line 8)) (1.1.1)\n",
            "Requirement already satisfied: portalocker in /home/steffanic/.local/lib/python3.8/site-packages (from sacrebleu==1.5.0->lm-eval==0.0.1->-r mesh-transformer-jax/requirements.txt (line 8)) (2.3.2)\n",
            "Requirement already satisfied: joblib>=0.11 in /home/steffanic/.local/lib/python3.8/site-packages (from scikit-learn>=0.24.1->lm-eval==0.0.1->-r mesh-transformer-jax/requirements.txt (line 8)) (1.0.1)\n",
            "Requirement already satisfied: threadpoolctl>=2.0.0 in /home/steffanic/.local/lib/python3.8/site-packages (from scikit-learn>=0.24.1->lm-eval==0.0.1->-r mesh-transformer-jax/requirements.txt (line 8)) (2.1.0)\n",
            "Requirement already satisfied: scipy>=0.19.1 in /home/steffanic/.local/lib/python3.8/site-packages (from scikit-learn>=0.24.1->lm-eval==0.0.1->-r mesh-transformer-jax/requirements.txt (line 8)) (1.6.3)\n",
            "Requirement already satisfied: gitdb<5,>=4.0.1 in /home/steffanic/.local/lib/python3.8/site-packages (from GitPython>=1.0.0->wandb>=0.11.2->-r mesh-transformer-jax/requirements.txt (line 3)) (4.0.7)\n",
            "Requirement already satisfied: cryptography>=2.5 in /usr/lib/python3/dist-packages (from paramiko>=2.4->fabric~=2.6.0->-r mesh-transformer-jax/requirements.txt (line 5)) (2.8)\n",
            "Requirement already satisfied: bcrypt>=3.1.3 in /home/steffanic/.local/lib/python3.8/site-packages (from paramiko>=2.4->fabric~=2.6.0->-r mesh-transformer-jax/requirements.txt (line 5)) (3.2.0)\n",
            "Requirement already satisfied: pynacl>=1.0.1 in /usr/lib/python3/dist-packages (from paramiko>=2.4->fabric~=2.6.0->-r mesh-transformer-jax/requirements.txt (line 5)) (1.3.0)\n",
            "Requirement already satisfied: dm-tree>=0.1.5 in /home/steffanic/.local/lib/python3.8/site-packages (from chex>=0.0.4->optax==0.0.6->-r mesh-transformer-jax/requirements.txt (line 6)) (0.1.6)\n",
            "Requirement already satisfied: toolz>=0.9.0 in /home/steffanic/.local/lib/python3.8/site-packages (from chex>=0.0.4->optax==0.0.6->-r mesh-transformer-jax/requirements.txt (line 6)) (0.11.1)\n",
            "Requirement already satisfied: multidict<7.0,>=4.5 in /home/steffanic/.local/lib/python3.8/site-packages (from aiohttp->ray[default]==1.4.1->-r mesh-transformer-jax/requirements.txt (line 9)) (5.1.0)\n",
            "Requirement already satisfied: async-timeout<4.0,>=3.0 in /home/steffanic/.local/lib/python3.8/site-packages (from aiohttp->ray[default]==1.4.1->-r mesh-transformer-jax/requirements.txt (line 9)) (3.0.1)\n",
            "Requirement already satisfied: yarl<2.0,>=1.0 in /home/steffanic/.local/lib/python3.8/site-packages (from aiohttp->ray[default]==1.4.1->-r mesh-transformer-jax/requirements.txt (line 9)) (1.6.3)\n",
            "Requirement already satisfied: google-api-core<2.0.0,>=1.0.0 in /home/steffanic/.local/lib/python3.8/site-packages (from opencensus->ray[default]==1.4.1->-r mesh-transformer-jax/requirements.txt (line 9)) (1.31.2)\n",
            "Requirement already satisfied: opencensus-context==0.1.2 in /home/steffanic/.local/lib/python3.8/site-packages (from opencensus->ray[default]==1.4.1->-r mesh-transformer-jax/requirements.txt (line 9)) (0.1.2)\n",
            "Requirement already satisfied: blessings>=1.6 in /home/steffanic/.local/lib/python3.8/site-packages (from gpustat->ray[default]==1.4.1->-r mesh-transformer-jax/requirements.txt (line 9)) (1.7)\n",
            "Requirement already satisfied: nvidia-ml-py3>=7.352.0 in /home/steffanic/.local/lib/python3.8/site-packages (from gpustat->ray[default]==1.4.1->-r mesh-transformer-jax/requirements.txt (line 9)) (7.352.0)\n",
            "Requirement already satisfied: tensorboard-plugin-wit>=1.6.0 in /home/steffanic/.local/lib/python3.8/site-packages (from tensorboard~=2.5->tensorflow-cpu~=2.5.0->-r mesh-transformer-jax/requirements.txt (line 13)) (1.8.0)\n",
            "Requirement already satisfied: tensorboard-data-server<0.7.0,>=0.6.0 in /home/steffanic/.local/lib/python3.8/site-packages (from tensorboard~=2.5->tensorflow-cpu~=2.5.0->-r mesh-transformer-jax/requirements.txt (line 13)) (0.6.1)\n",
            "Requirement already satisfied: markdown>=2.6.8 in /home/steffanic/.local/lib/python3.8/site-packages (from tensorboard~=2.5->tensorflow-cpu~=2.5.0->-r mesh-transformer-jax/requirements.txt (line 13)) (3.3.4)\n",
            "Requirement already satisfied: google-auth-oauthlib<0.5,>=0.4.1 in /home/steffanic/.local/lib/python3.8/site-packages (from tensorboard~=2.5->tensorflow-cpu~=2.5.0->-r mesh-transformer-jax/requirements.txt (line 13)) (0.4.4)\n",
            "Requirement already satisfied: google-crc32c<2.0dev,>=1.0; python_version >= \"3.5\" in /home/steffanic/.local/lib/python3.8/site-packages (from google-resumable-media<2.0dev,>=1.2.0->google-cloud-storage~=1.36.2->-r mesh-transformer-jax/requirements.txt (line 14)) (1.1.5)\n",
            "Requirement already satisfied: rsa<5,>=3.1.4; python_version >= \"3.6\" in /home/steffanic/.local/lib/python3.8/site-packages (from google-auth<2.0dev,>=1.11.0->google-cloud-storage~=1.36.2->-r mesh-transformer-jax/requirements.txt (line 14)) (4.7.2)\n",
            "Requirement already satisfied: pyasn1-modules>=0.2.1 in /usr/lib/python3/dist-packages (from google-auth<2.0dev,>=1.11.0->google-cloud-storage~=1.36.2->-r mesh-transformer-jax/requirements.txt (line 14)) (0.2.1)\n",
            "Requirement already satisfied: cachetools<5.0,>=2.0.0 in /home/steffanic/.local/lib/python3.8/site-packages (from google-auth<2.0dev,>=1.11.0->google-cloud-storage~=1.36.2->-r mesh-transformer-jax/requirements.txt (line 14)) (4.2.2)\n",
            "Requirement already satisfied: pyparsing>=2.0.2 in /home/steffanic/.local/lib/python3.8/site-packages (from packaging->transformers->-r mesh-transformer-jax/requirements.txt (line 15)) (2.4.7)\n",
            "Requirement already satisfied: pytz>=2017.3 in /home/steffanic/.local/lib/python3.8/site-packages (from pandas->datasets>=1.2.1->lm-eval==0.0.1->-r mesh-transformer-jax/requirements.txt (line 8)) (2021.1)\n",
            "Requirement already satisfied: cython in /home/steffanic/.local/lib/python3.8/site-packages (from DyNet38->nagisa==0.2.7->lm-eval==0.0.1->-r mesh-transformer-jax/requirements.txt (line 8)) (0.29.24)\n",
            "Requirement already satisfied: smmap<5,>=3.0.1 in /home/steffanic/.local/lib/python3.8/site-packages (from gitdb<5,>=4.0.1->GitPython>=1.0.0->wandb>=0.11.2->-r mesh-transformer-jax/requirements.txt (line 3)) (4.0.0)\n",
            "Requirement already satisfied: cffi>=1.1 in /home/steffanic/.local/lib/python3.8/site-packages (from bcrypt>=3.1.3->paramiko>=2.4->fabric~=2.6.0->-r mesh-transformer-jax/requirements.txt (line 5)) (1.14.5)\n",
            "Requirement already satisfied: googleapis-common-protos<2.0dev,>=1.6.0 in /home/steffanic/.local/lib/python3.8/site-packages (from google-api-core<2.0.0,>=1.0.0->opencensus->ray[default]==1.4.1->-r mesh-transformer-jax/requirements.txt (line 9)) (1.53.0)\n",
            "Requirement already satisfied: requests-oauthlib>=0.7.0 in /home/steffanic/.local/lib/python3.8/site-packages (from google-auth-oauthlib<0.5,>=0.4.1->tensorboard~=2.5->tensorflow-cpu~=2.5.0->-r mesh-transformer-jax/requirements.txt (line 13)) (1.3.0)\n",
            "Requirement already satisfied: pyasn1>=0.1.3 in /usr/lib/python3/dist-packages (from rsa<5,>=3.1.4; python_version >= \"3.6\"->google-auth<2.0dev,>=1.11.0->google-cloud-storage~=1.36.2->-r mesh-transformer-jax/requirements.txt (line 14)) (0.4.2)\n",
            "Requirement already satisfied: pycparser in /home/steffanic/.local/lib/python3.8/site-packages (from cffi>=1.1->bcrypt>=3.1.3->paramiko>=2.4->fabric~=2.6.0->-r mesh-transformer-jax/requirements.txt (line 5)) (2.20)\n",
            "Requirement already satisfied: oauthlib>=3.0.0 in /usr/lib/python3/dist-packages (from requests-oauthlib>=0.7.0->google-auth-oauthlib<0.5,>=0.4.1->tensorboard~=2.5->tensorflow-cpu~=2.5.0->-r mesh-transformer-jax/requirements.txt (line 13)) (3.1.0)\n",
            "Building wheels for collected packages: dm-haiku, lm-eval\n",
            "  Building wheel for dm-haiku (setup.py) ... \u001b[?25ldone\n",
            "\u001b[?25h  Created wheel for dm-haiku: filename=dm_haiku-0.0.5.dev0-py3-none-any.whl size=286033 sha256=7a5a2a9b1ec4d4755c8476f18be0667b79e0a8fb77b5aa7c994c0fe773a48b29\n",
            "  Stored in directory: /tmp/pip-ephem-wheel-cache-mqb2qpa7/wheels/c7/4d/89/b159f184ad7c9e95672c342eafcc176ad92ee0c77f27f3bd23\n",
            "  Building wheel for lm-eval (setup.py) ... \u001b[?25ldone\n",
            "\u001b[?25h  Created wheel for lm-eval: filename=lm_eval-0.0.1-py3-none-any.whl size=103326 sha256=1197752e266a0b536617de31e1c225f94dac27a5883f8f70cc2c52086fe2f899\n",
            "  Stored in directory: /tmp/pip-ephem-wheel-cache-mqb2qpa7/wheels/f9/bc/f7/9a79ab0e8c58f8037034286f323bf021e90804b5dbe9d0bc46\n",
            "Successfully built dm-haiku lm-eval\n",
            "Processing ./mesh-transformer-jax\n",
            "Requirement already satisfied: jax==0.2.12 in /home/steffanic/.local/lib/python3.8/site-packages (0.2.12)\n",
            "Requirement already satisfied: tensorflow==2.5.0 in /home/steffanic/.local/lib/python3.8/site-packages (2.5.0)\n",
            "Requirement already satisfied: opt-einsum in /home/steffanic/.local/lib/python3.8/site-packages (from jax==0.2.12) (3.3.0)\n",
            "Requirement already satisfied: absl-py in /home/steffanic/.local/lib/python3.8/site-packages (from jax==0.2.12) (0.12.0)\n",
            "Requirement already satisfied: numpy>=1.12 in /home/steffanic/.local/lib/python3.8/site-packages (from jax==0.2.12) (1.19.5)\n",
            "Requirement already satisfied: wheel~=0.35 in /home/steffanic/.local/lib/python3.8/site-packages (from tensorflow==2.5.0) (0.36.2)\n",
            "Requirement already satisfied: keras-preprocessing~=1.1.2 in /home/steffanic/.local/lib/python3.8/site-packages (from tensorflow==2.5.0) (1.1.2)\n",
            "Requirement already satisfied: astunparse~=1.6.3 in /home/steffanic/.local/lib/python3.8/site-packages (from tensorflow==2.5.0) (1.6.3)\n",
            "Requirement already satisfied: gast==0.4.0 in /home/steffanic/.local/lib/python3.8/site-packages (from tensorflow==2.5.0) (0.4.0)\n",
            "Requirement already satisfied: six~=1.15.0 in /home/steffanic/.local/lib/python3.8/site-packages (from tensorflow==2.5.0) (1.15.0)\n",
            "Requirement already satisfied: flatbuffers~=1.12.0 in /home/steffanic/.local/lib/python3.8/site-packages (from tensorflow==2.5.0) (1.12)\n",
            "Requirement already satisfied: tensorflow-estimator<2.6.0,>=2.5.0rc0 in /home/steffanic/.local/lib/python3.8/site-packages (from tensorflow==2.5.0) (2.5.0)\n",
            "Requirement already satisfied: google-pasta~=0.2 in /home/steffanic/.local/lib/python3.8/site-packages (from tensorflow==2.5.0) (0.2.0)\n",
            "Requirement already satisfied: wrapt~=1.12.1 in /home/steffanic/.local/lib/python3.8/site-packages (from tensorflow==2.5.0) (1.12.1)\n",
            "Requirement already satisfied: typing-extensions~=3.7.4 in /home/steffanic/.local/lib/python3.8/site-packages (from tensorflow==2.5.0) (3.7.4.3)\n",
            "Requirement already satisfied: tensorboard~=2.5 in /home/steffanic/.local/lib/python3.8/site-packages (from tensorflow==2.5.0) (2.5.0)\n",
            "Requirement already satisfied: keras-nightly~=2.5.0.dev in /home/steffanic/.local/lib/python3.8/site-packages (from tensorflow==2.5.0) (2.5.0.dev2021032900)\n",
            "Requirement already satisfied: protobuf>=3.9.2 in /home/steffanic/.local/lib/python3.8/site-packages (from tensorflow==2.5.0) (3.17.1)\n",
            "Requirement already satisfied: termcolor~=1.1.0 in /home/steffanic/.local/lib/python3.8/site-packages (from tensorflow==2.5.0) (1.1.0)\n",
            "Requirement already satisfied: grpcio~=1.34.0 in /home/steffanic/.local/lib/python3.8/site-packages (from tensorflow==2.5.0) (1.34.1)\n",
            "Requirement already satisfied: h5py~=3.1.0 in /home/steffanic/.local/lib/python3.8/site-packages (from tensorflow==2.5.0) (3.1.0)\n",
            "Requirement already satisfied: requests<3,>=2.21.0 in /home/steffanic/.local/lib/python3.8/site-packages (from tensorboard~=2.5->tensorflow==2.5.0) (2.25.1)\n",
            "Requirement already satisfied: markdown>=2.6.8 in /home/steffanic/.local/lib/python3.8/site-packages (from tensorboard~=2.5->tensorflow==2.5.0) (3.3.4)\n",
            "Requirement already satisfied: google-auth-oauthlib<0.5,>=0.4.1 in /home/steffanic/.local/lib/python3.8/site-packages (from tensorboard~=2.5->tensorflow==2.5.0) (0.4.4)\n",
            "Requirement already satisfied: werkzeug>=0.11.15 in /home/steffanic/.local/lib/python3.8/site-packages (from tensorboard~=2.5->tensorflow==2.5.0) (2.0.1)\n",
            "Requirement already satisfied: google-auth<2,>=1.6.3 in /home/steffanic/.local/lib/python3.8/site-packages (from tensorboard~=2.5->tensorflow==2.5.0) (1.30.1)\n",
            "Requirement already satisfied: tensorboard-data-server<0.7.0,>=0.6.0 in /home/steffanic/.local/lib/python3.8/site-packages (from tensorboard~=2.5->tensorflow==2.5.0) (0.6.1)\n",
            "Requirement already satisfied: setuptools>=41.0.0 in /usr/lib/python3/dist-packages (from tensorboard~=2.5->tensorflow==2.5.0) (45.2.0)\n",
            "Requirement already satisfied: tensorboard-plugin-wit>=1.6.0 in /home/steffanic/.local/lib/python3.8/site-packages (from tensorboard~=2.5->tensorflow==2.5.0) (1.8.0)\n",
            "Requirement already satisfied: chardet<5,>=3.0.2 in /usr/lib/python3/dist-packages (from requests<3,>=2.21.0->tensorboard~=2.5->tensorflow==2.5.0) (3.0.4)\n",
            "Requirement already satisfied: certifi>=2017.4.17 in /usr/lib/python3/dist-packages (from requests<3,>=2.21.0->tensorboard~=2.5->tensorflow==2.5.0) (2019.11.28)\n",
            "Requirement already satisfied: idna<3,>=2.5 in /usr/lib/python3/dist-packages (from requests<3,>=2.21.0->tensorboard~=2.5->tensorflow==2.5.0) (2.8)\n",
            "Requirement already satisfied: urllib3<1.27,>=1.21.1 in /home/steffanic/.local/lib/python3.8/site-packages (from requests<3,>=2.21.0->tensorboard~=2.5->tensorflow==2.5.0) (1.26.5)\n",
            "Requirement already satisfied: requests-oauthlib>=0.7.0 in /home/steffanic/.local/lib/python3.8/site-packages (from google-auth-oauthlib<0.5,>=0.4.1->tensorboard~=2.5->tensorflow==2.5.0) (1.3.0)\n",
            "Requirement already satisfied: pyasn1-modules>=0.2.1 in /usr/lib/python3/dist-packages (from google-auth<2,>=1.6.3->tensorboard~=2.5->tensorflow==2.5.0) (0.2.1)\n",
            "Requirement already satisfied: rsa<5,>=3.1.4; python_version >= \"3.6\" in /home/steffanic/.local/lib/python3.8/site-packages (from google-auth<2,>=1.6.3->tensorboard~=2.5->tensorflow==2.5.0) (4.7.2)\n",
            "Requirement already satisfied: cachetools<5.0,>=2.0.0 in /home/steffanic/.local/lib/python3.8/site-packages (from google-auth<2,>=1.6.3->tensorboard~=2.5->tensorflow==2.5.0) (4.2.2)\n",
            "Requirement already satisfied: oauthlib>=3.0.0 in /usr/lib/python3/dist-packages (from requests-oauthlib>=0.7.0->google-auth-oauthlib<0.5,>=0.4.1->tensorboard~=2.5->tensorflow==2.5.0) (3.1.0)\n",
            "Requirement already satisfied: pyasn1>=0.1.3 in /usr/lib/python3/dist-packages (from rsa<5,>=3.1.4; python_version >= \"3.6\"->google-auth<2,>=1.6.3->tensorboard~=2.5->tensorflow==2.5.0) (0.4.2)\n",
            "Building wheels for collected packages: mesh-transformer\n",
            "  Building wheel for mesh-transformer (setup.py) ... \u001b[?25ldone\n",
            "\u001b[?25h  Created wheel for mesh-transformer: filename=mesh_transformer-0.0.0-py3-none-any.whl size=26080 sha256=754bac5d7b3d75b0de86ffabaf4d7642578c231e3ac67f6351a7185021502b08\n",
            "  Stored in directory: /home/steffanic/.cache/pip/wheels/d9/9b/06/5ed8b5b75df9439dc993e82e0cd2ccdc28e906ac0afc36fcf8\n",
            "Successfully built mesh-transformer\n",
            "Installing collected packages: mesh-transformer\n",
            "  Attempting uninstall: mesh-transformer\n",
            "    Found existing installation: mesh-transformer 0.0.0\n",
            "    Uninstalling mesh-transformer-0.0.0:\n",
            "      Successfully uninstalled mesh-transformer-0.0.0\n",
            "Successfully installed mesh-transformer-0.0.0\n"
          ]
        }
      ],
      "metadata": {
        "colab": {
          "base_uri": "https://localhost:8080/"
        },
        "id": "n7xAFw-LOYfe",
        "outputId": "fb1360ea-41b4-4b42-c24e-c2ba66bd2b3a"
      }
    },
    {
      "cell_type": "markdown",
      "source": [
        "## Setup Model\n"
      ],
      "metadata": {
        "id": "aO1UXepF-0Uq"
      }
    },
    {
      "cell_type": "code",
      "execution_count": 2,
      "source": [
        "import os\n",
        "import requests \n",
        "from jax.config import config\n",
        "\n",
        "colab_tpu_addr = os.environ['COLAB_TPU_ADDR'].split(':')[0]\n",
        "url = f'http://{colab_tpu_addr}:8475/requestversion/tpu_driver0.1_dev20210607'\n",
        "requests.post(url)\n",
        "\n",
        "# The following is required to use TPU Driver as JAX's backend.\n",
        "config.FLAGS.jax_xla_backend = \"tpu_driver\"\n",
        "config.FLAGS.jax_backend_target = \"grpc://\" + os.environ['COLAB_TPU_ADDR']"
      ],
      "outputs": [
        {
          "output_type": "error",
          "ename": "KeyError",
          "evalue": "'COLAB_TPU_ADDR'",
          "traceback": [
            "\u001b[0;31m---------------------------------------------------------------------------\u001b[0m",
            "\u001b[0;31mKeyError\u001b[0m                                  Traceback (most recent call last)",
            "\u001b[0;32m<ipython-input-2-c95279dac08d>\u001b[0m in \u001b[0;36m<module>\u001b[0;34m\u001b[0m\n\u001b[1;32m      3\u001b[0m \u001b[0;32mfrom\u001b[0m \u001b[0mjax\u001b[0m\u001b[0;34m.\u001b[0m\u001b[0mconfig\u001b[0m \u001b[0;32mimport\u001b[0m \u001b[0mconfig\u001b[0m\u001b[0;34m\u001b[0m\u001b[0;34m\u001b[0m\u001b[0m\n\u001b[1;32m      4\u001b[0m \u001b[0;34m\u001b[0m\u001b[0m\n\u001b[0;32m----> 5\u001b[0;31m \u001b[0mcolab_tpu_addr\u001b[0m \u001b[0;34m=\u001b[0m \u001b[0mos\u001b[0m\u001b[0;34m.\u001b[0m\u001b[0menviron\u001b[0m\u001b[0;34m[\u001b[0m\u001b[0;34m'COLAB_TPU_ADDR'\u001b[0m\u001b[0;34m]\u001b[0m\u001b[0;34m.\u001b[0m\u001b[0msplit\u001b[0m\u001b[0;34m(\u001b[0m\u001b[0;34m':'\u001b[0m\u001b[0;34m)\u001b[0m\u001b[0;34m[\u001b[0m\u001b[0;36m0\u001b[0m\u001b[0;34m]\u001b[0m\u001b[0;34m\u001b[0m\u001b[0;34m\u001b[0m\u001b[0m\n\u001b[0m\u001b[1;32m      6\u001b[0m \u001b[0murl\u001b[0m \u001b[0;34m=\u001b[0m \u001b[0;34mf'http://{colab_tpu_addr}:8475/requestversion/tpu_driver0.1_dev20210607'\u001b[0m\u001b[0;34m\u001b[0m\u001b[0;34m\u001b[0m\u001b[0m\n\u001b[1;32m      7\u001b[0m \u001b[0mrequests\u001b[0m\u001b[0;34m.\u001b[0m\u001b[0mpost\u001b[0m\u001b[0;34m(\u001b[0m\u001b[0murl\u001b[0m\u001b[0;34m)\u001b[0m\u001b[0;34m\u001b[0m\u001b[0;34m\u001b[0m\u001b[0m\n",
            "\u001b[0;32m/usr/lib/python3.8/os.py\u001b[0m in \u001b[0;36m__getitem__\u001b[0;34m(self, key)\u001b[0m\n\u001b[1;32m    673\u001b[0m         \u001b[0;32mexcept\u001b[0m \u001b[0mKeyError\u001b[0m\u001b[0;34m:\u001b[0m\u001b[0;34m\u001b[0m\u001b[0;34m\u001b[0m\u001b[0m\n\u001b[1;32m    674\u001b[0m             \u001b[0;31m# raise KeyError with the original key value\u001b[0m\u001b[0;34m\u001b[0m\u001b[0;34m\u001b[0m\u001b[0;34m\u001b[0m\u001b[0m\n\u001b[0;32m--> 675\u001b[0;31m             \u001b[0;32mraise\u001b[0m \u001b[0mKeyError\u001b[0m\u001b[0;34m(\u001b[0m\u001b[0mkey\u001b[0m\u001b[0;34m)\u001b[0m \u001b[0;32mfrom\u001b[0m \u001b[0;32mNone\u001b[0m\u001b[0;34m\u001b[0m\u001b[0;34m\u001b[0m\u001b[0m\n\u001b[0m\u001b[1;32m    676\u001b[0m         \u001b[0;32mreturn\u001b[0m \u001b[0mself\u001b[0m\u001b[0;34m.\u001b[0m\u001b[0mdecodevalue\u001b[0m\u001b[0;34m(\u001b[0m\u001b[0mvalue\u001b[0m\u001b[0;34m)\u001b[0m\u001b[0;34m\u001b[0m\u001b[0;34m\u001b[0m\u001b[0m\n\u001b[1;32m    677\u001b[0m \u001b[0;34m\u001b[0m\u001b[0m\n",
            "\u001b[0;31mKeyError\u001b[0m: 'COLAB_TPU_ADDR'"
          ]
        }
      ],
      "metadata": {
        "id": "ex0qJgaueZtJ"
      }
    },
    {
      "cell_type": "markdown",
      "source": [
        "Sometimes the next step errors for some reason, just run it again ¯\\\\\\_(ツ)\\_/¯"
      ],
      "metadata": {
        "id": "NIgUVdFLe4A8"
      }
    },
    {
      "cell_type": "code",
      "execution_count": 4,
      "source": [
        "import time\n",
        "\n",
        "import jax\n",
        "from jax.experimental import maps\n",
        "import numpy as np\n",
        "import optax\n",
        "import transformers\n",
        "\n",
        "from mesh_transformer.checkpoint import read_ckpt\n",
        "from mesh_transformer.sampling import nucleaus_sample\n",
        "from mesh_transformer.transformer_shard import CausalTransformer"
      ],
      "outputs": [],
      "metadata": {
        "id": "-A5IGYSaeze3"
      }
    },
    {
      "cell_type": "code",
      "execution_count": 6,
      "source": [
        "params = {\n",
        "  \"layers\": 28,\n",
        "  \"d_model\": 4096,\n",
        "  \"n_heads\": 16,\n",
        "  \"n_vocab\": 50400,\n",
        "  \"norm\": \"layernorm\",\n",
        "  \"pe\": \"rotary\",\n",
        "  \"pe_rotary_dims\": 64,\n",
        "\n",
        "  \"seq\": 2048,\n",
        "  \"cores_per_replica\": 8,\n",
        "  \"per_replica_batch\": 1,\n",
        "}\n",
        "\n",
        "per_replica_batch = params[\"per_replica_batch\"]\n",
        "cores_per_replica = params[\"cores_per_replica\"]\n",
        "seq = params[\"seq\"]\n",
        "\n",
        "\n",
        "params[\"sampler\"] = nucleaus_sample\n",
        "\n",
        "# here we \"remove\" the optimizer parameters from the model (as we don't need them for inference)\n",
        "params[\"optimizer\"] = optax.scale(0)\n",
        "\n",
        "mesh_shape = (jax.device_count() // cores_per_replica, cores_per_replica)\n",
        "devices = np.array(jax.devices())\n",
        "\n",
        "maps.thread_resources.env = maps.ResourceEnv(maps.Mesh(devices, ('dp', 'mp')))\n",
        "\n",
        "tokenizer = transformers.GPT2TokenizerFast.from_pretrained('gpt2')"
      ],
      "outputs": [
        {
          "output_type": "error",
          "ename": "AssertionError",
          "evalue": "",
          "traceback": [
            "\u001b[0;31m---------------------------------------------------------------------------\u001b[0m",
            "\u001b[0;31mAssertionError\u001b[0m                            Traceback (most recent call last)",
            "\u001b[0;32m<ipython-input-6-581b7a0a0410>\u001b[0m in \u001b[0;36m<module>\u001b[0;34m\u001b[0m\n\u001b[1;32m     26\u001b[0m \u001b[0mdevices\u001b[0m \u001b[0;34m=\u001b[0m \u001b[0mnp\u001b[0m\u001b[0;34m.\u001b[0m\u001b[0marray\u001b[0m\u001b[0;34m(\u001b[0m\u001b[0mjax\u001b[0m\u001b[0;34m.\u001b[0m\u001b[0mdevices\u001b[0m\u001b[0;34m(\u001b[0m\u001b[0;34m)\u001b[0m\u001b[0;34m)\u001b[0m\u001b[0;34m\u001b[0m\u001b[0;34m\u001b[0m\u001b[0m\n\u001b[1;32m     27\u001b[0m \u001b[0;34m\u001b[0m\u001b[0m\n\u001b[0;32m---> 28\u001b[0;31m \u001b[0mmaps\u001b[0m\u001b[0;34m.\u001b[0m\u001b[0mthread_resources\u001b[0m\u001b[0;34m.\u001b[0m\u001b[0menv\u001b[0m \u001b[0;34m=\u001b[0m \u001b[0mmaps\u001b[0m\u001b[0;34m.\u001b[0m\u001b[0mResourceEnv\u001b[0m\u001b[0;34m(\u001b[0m\u001b[0mmaps\u001b[0m\u001b[0;34m.\u001b[0m\u001b[0mMesh\u001b[0m\u001b[0;34m(\u001b[0m\u001b[0mdevices\u001b[0m\u001b[0;34m,\u001b[0m \u001b[0;34m(\u001b[0m\u001b[0;34m'dp'\u001b[0m\u001b[0;34m,\u001b[0m \u001b[0;34m'mp'\u001b[0m\u001b[0;34m)\u001b[0m\u001b[0;34m)\u001b[0m\u001b[0;34m)\u001b[0m\u001b[0;34m\u001b[0m\u001b[0;34m\u001b[0m\u001b[0m\n\u001b[0m\u001b[1;32m     29\u001b[0m \u001b[0;34m\u001b[0m\u001b[0m\n\u001b[1;32m     30\u001b[0m \u001b[0mtokenizer\u001b[0m \u001b[0;34m=\u001b[0m \u001b[0mtransformers\u001b[0m\u001b[0;34m.\u001b[0m\u001b[0mGPT2TokenizerFast\u001b[0m\u001b[0;34m.\u001b[0m\u001b[0mfrom_pretrained\u001b[0m\u001b[0;34m(\u001b[0m\u001b[0;34m'gpt2'\u001b[0m\u001b[0;34m)\u001b[0m\u001b[0;34m\u001b[0m\u001b[0;34m\u001b[0m\u001b[0m\n",
            "\u001b[0;32m~/.local/lib/python3.8/site-packages/jax/interpreters/pxla.py\u001b[0m in \u001b[0;36m__init__\u001b[0;34m(self, devices, axis_names)\u001b[0m\n\u001b[1;32m   1260\u001b[0m \u001b[0;34m\u001b[0m\u001b[0m\n\u001b[1;32m   1261\u001b[0m   \u001b[0;32mdef\u001b[0m \u001b[0m__init__\u001b[0m\u001b[0;34m(\u001b[0m\u001b[0mself\u001b[0m\u001b[0;34m,\u001b[0m \u001b[0mdevices\u001b[0m\u001b[0;34m:\u001b[0m \u001b[0mnp\u001b[0m\u001b[0;34m.\u001b[0m\u001b[0mndarray\u001b[0m\u001b[0;34m,\u001b[0m \u001b[0maxis_names\u001b[0m\u001b[0;34m:\u001b[0m \u001b[0mSequence\u001b[0m\u001b[0;34m[\u001b[0m\u001b[0mMeshAxisName\u001b[0m\u001b[0;34m]\u001b[0m\u001b[0;34m)\u001b[0m\u001b[0;34m:\u001b[0m\u001b[0;34m\u001b[0m\u001b[0;34m\u001b[0m\u001b[0m\n\u001b[0;32m-> 1262\u001b[0;31m     \u001b[0;32massert\u001b[0m \u001b[0mdevices\u001b[0m\u001b[0;34m.\u001b[0m\u001b[0mndim\u001b[0m \u001b[0;34m==\u001b[0m \u001b[0mlen\u001b[0m\u001b[0;34m(\u001b[0m\u001b[0maxis_names\u001b[0m\u001b[0;34m)\u001b[0m\u001b[0;34m\u001b[0m\u001b[0;34m\u001b[0m\u001b[0m\n\u001b[0m\u001b[1;32m   1263\u001b[0m     \u001b[0;31m# TODO: Make sure that devices are unique? At least with the quick and\u001b[0m\u001b[0;34m\u001b[0m\u001b[0;34m\u001b[0m\u001b[0;34m\u001b[0m\u001b[0m\n\u001b[1;32m   1264\u001b[0m     \u001b[0;31m#       dirty check that the array size is not larger than the number of\u001b[0m\u001b[0;34m\u001b[0m\u001b[0;34m\u001b[0m\u001b[0;34m\u001b[0m\u001b[0m\n",
            "\u001b[0;31mAssertionError\u001b[0m: "
          ]
        }
      ],
      "metadata": {
        "id": "QAgKq-X2kmba"
      }
    },
    {
      "cell_type": "markdown",
      "source": [
        "Here we create the network and load the parameters from the downloaded files. Expect this to take around 5 minutes."
      ],
      "metadata": {
        "id": "yFgRkUgfiNdA"
      }
    },
    {
      "cell_type": "code",
      "execution_count": null,
      "source": [
        "total_batch = per_replica_batch * jax.device_count() // cores_per_replica\n",
        "\n",
        "network = CausalTransformer(params)\n",
        "\n",
        "network.state = read_ckpt(network.state, \"step_383500/\", devices.shape[1])\n",
        "\n",
        "network.state = network.move_xmap(network.state, np.zeros(cores_per_replica))"
      ],
      "outputs": [
        {
          "output_type": "stream",
          "name": "stderr",
          "text": [
            "/usr/local/lib/python3.7/dist-packages/jax/experimental/maps.py:412: UserWarning: xmap is an experimental feature and probably has bugs!\n",
            "  warn(\"xmap is an experimental feature and probably has bugs!\")\n"
          ]
        },
        {
          "output_type": "stream",
          "name": "stdout",
          "text": [
            "key shape (8, 2)\n",
            "in shape (1, 2048)\n",
            "dp 1\n",
            "mp 8\n",
            "Total parameters: 6053381344\n"
          ]
        }
      ],
      "metadata": {
        "colab": {
          "base_uri": "https://localhost:8080/"
        },
        "id": "lwNETD2Uk8nu",
        "outputId": "a18e2940-96d6-4f41-b002-20cf5fb9db6b"
      }
    },
    {
      "cell_type": "markdown",
      "source": [
        "## Run Model\n",
        "\n",
        "Finally, we are ready to infer with the model! The first sample takes around a minute due to compilation, but after that it should only take about 10 seconds per sample.\n",
        "\n",
        "Feel free to mess with the different sampling parameters (top_p and temp), as well as the length of the generations (gen_len, causes a recompile when changed).\n",
        "\n",
        "You can also change other things like per_replica_batch in the previous cells to change how many generations are done in parallel. A larger batch has higher latency but higher throughput when measured in tokens generated/s. This is useful for doing things like best-of-n cherry picking.\n",
        "\n",
        "*Tip for best results: Make sure your prompt does not have any trailing spaces, which tend to confuse the model due to the BPE tokenization used during training.*"
      ],
      "metadata": {
        "id": "A-eT7Sw6if4J"
      }
    },
    {
      "cell_type": "code",
      "execution_count": null,
      "source": [
        "# allow text wrapping in generated output: https://stackoverflow.com/a/61401455\n",
        "from IPython.display import HTML, display\n",
        "\n",
        "def set_css():\n",
        "  display(HTML('''\n",
        "  <style>\n",
        "    pre {\n",
        "        white-space: pre-wrap;\n",
        "    }\n",
        "  </style>\n",
        "  '''))\n",
        "get_ipython().events.register('pre_run_cell', set_css)"
      ],
      "outputs": [],
      "metadata": {
        "id": "9GznztODOGRa"
      }
    },
    {
      "cell_type": "code",
      "execution_count": null,
      "source": [
        "def infer(context, top_p=0.9, temp=1.0, gen_len=512):\n",
        "    tokens = tokenizer.encode(context)\n",
        "\n",
        "    provided_ctx = len(tokens)\n",
        "    pad_amount = seq - provided_ctx\n",
        "\n",
        "    padded_tokens = np.pad(tokens, ((pad_amount, 0),)).astype(np.uint32)\n",
        "    batched_tokens = np.array([padded_tokens] * total_batch)\n",
        "    length = np.ones(total_batch, dtype=np.uint32) * len(tokens)\n",
        "\n",
        "    start = time.time()\n",
        "    output = network.generate(batched_tokens, length, gen_len, {\"top_p\": np.ones(total_batch) * top_p, \"temp\": np.ones(total_batch) * temp})\n",
        "\n",
        "    samples = []\n",
        "    decoded_tokens = output[1][0]\n",
        "\n",
        "    for o in decoded_tokens[:, :, 0]:\n",
        "      samples.append(f\"\\033[1m{context}\\033[0m{tokenizer.decode(o)}\")\n",
        "\n",
        "    print(f\"completion done in {time.time() - start:06}s\")\n",
        "    return samples\n",
        "\n",
        "print(infer(\"EleutherAI is\")[0])"
      ],
      "outputs": [],
      "metadata": {
        "id": "ZVzs2TYlvYeX"
      }
    },
    {
      "cell_type": "code",
      "execution_count": null,
      "source": [
        "#@title  { form-width: \"300px\" }\n",
        "top_p = 0.9 #@param {type:\"slider\", min:0, max:1, step:0.1}\n",
        "temp = 1 #@param {type:\"slider\", min:0, max:1, step:0.1}\n",
        "\n",
        "context = \"\"\"In a shocking finding, scientist discovered a herd of unicorns living in a remote, previously unexplored valley, in the Andes Mountains. Even more surprising to the researchers was the fact that the unicorns spoke perfect English.\"\"\"\n",
        "\n",
        "print(infer(top_p=top_p, temp=temp, gen_len=512, context=context)[0])"
      ],
      "outputs": [],
      "metadata": {
        "id": "nvlAK6RbCJYg"
      }
    }
  ]
}